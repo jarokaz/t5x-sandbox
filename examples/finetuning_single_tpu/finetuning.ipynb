{
 "cells": [
  {
   "cell_type": "markdown",
   "metadata": {},
   "source": [
    "# T5X fine tuning"
   ]
  },
  {
   "cell_type": "code",
   "execution_count": 1,
   "metadata": {},
   "outputs": [
    {
     "name": "stderr",
     "output_type": "stream",
     "text": [
      "/usr/local/lib/python3.8/dist-packages/pkg_resources/__init__.py:123: PkgResourcesDeprecationWarning: 0.1.36ubuntu1 is an invalid version and will not be supported in a future release\n",
      "  warnings.warn(\n",
      "/usr/local/lib/python3.8/dist-packages/pkg_resources/__init__.py:123: PkgResourcesDeprecationWarning: 0.23ubuntu1 is an invalid version and will not be supported in a future release\n",
      "  warnings.warn(\n"
     ]
    }
   ],
   "source": [
    "import os\n",
    "import time\n",
    "\n",
    "from google.cloud import aiplatform as vertex_ai"
   ]
  },
  {
   "cell_type": "code",
   "execution_count": 2,
   "metadata": {},
   "outputs": [],
   "source": [
    "PROJECT_ID = 'jk-mlops-dev'\n",
    "BUCKET = 'jk-t5x-staging'\n",
    "REGION = 'us-central1'\n",
    "IMAGE_URI = f'gcr.io/{PROJECT_ID}/t5x'"
   ]
  },
  {
   "cell_type": "code",
   "execution_count": 3,
   "metadata": {},
   "outputs": [],
   "source": [
    "vertex_ai.init(\n",
    "    project=PROJECT_ID,\n",
    "    location=REGION,\n",
    "    staging_bucket=f'gs://{BUCKET}/staging',\n",
    ")"
   ]
  },
  {
   "cell_type": "code",
   "execution_count": 8,
   "metadata": {},
   "outputs": [
    {
     "name": "stdout",
     "output_type": "stream",
     "text": [
      "Copying file://small_finetune_wmt.gin [Content-Type=application/octet-stream]...\n",
      "/ [1 files][  567.0 B/  567.0 B]                                                \n",
      "Operation completed over 1 objects/567.0 B.                                      \n"
     ]
    }
   ],
   "source": [
    "MODEL_DISPLAY_NAME = 'fine-tune-squad'\n",
    "GIN_FILE = 'small_finetune_wmt.gin'\n",
    "GIN_FILE_GCS = f'gs://{BUCKET}/staging/{GIN_FILE}'\n",
    "!gsutil cp {GIN_FILE} {GIN_FILE_GCS}\n",
    "GIN_FILE_GCS = GIN_FILE_GCS.replace('gs://', '/gcs/')\n",
    "RUN_MODE = 'train'\n",
    "MODEL_DIR = f'gs://{BUCKET}/jobs/{time.strftime(\"%Y%m%d_%H%M%S\")}'\n",
    "TFDS_DATA_DIR = f'gs://{BUCKET}/dataset/{MODEL_DISPLAY_NAME}'"
   ]
  },
  {
   "cell_type": "code",
   "execution_count": 9,
   "metadata": {},
   "outputs": [
    {
     "data": {
      "text/plain": [
       "[{'machine_spec': {'machine_type': 'cloud-tpu',\n",
       "   'accelerator_type': 'TPU_V2',\n",
       "   'accelerator_count': 8},\n",
       "  'replica_count': 1,\n",
       "  'container_spec': {'image_uri': 'gcr.io/jk-mlops-dev/t5x',\n",
       "   'args': ['--run_mode=train',\n",
       "    '--gin_file=/gcs/jk-t5x-staging/staging/small_finetune_wmt.gin',\n",
       "    '--gin.MODEL_DIR=\"gs://jk-t5x-staging/jobs/20220720_020546\"',\n",
       "    '--tfds_data_dir=gs://jk-t5x-staging/dataset/fine-tune-squad',\n",
       "    '--gin.USE_CACHED_TASKS=False']}}]"
      ]
     },
     "execution_count": 9,
     "metadata": {},
     "output_type": "execute_result"
    }
   ],
   "source": [
    "worker_pool_specs =  [\n",
    "    {\n",
    "        \"machine_spec\": {\n",
    "            \"machine_type\": \"cloud-tpu\",\n",
    "            \"accelerator_type\": \"TPU_V2\",\n",
    "            \"accelerator_count\": 8,\n",
    "        },\n",
    "        \"replica_count\": 1,\n",
    "        \"container_spec\": {\n",
    "            \"image_uri\": IMAGE_URI,\n",
    "            \"args\": [\n",
    "                f'--run_mode={RUN_MODE}',\n",
    "                f'--gin_file={GIN_FILE_GCS}',\n",
    "                f'--gin.MODEL_DIR=\"{MODEL_DIR}\"',\n",
    "                f'--tfds_data_dir={TFDS_DATA_DIR}',\n",
    "                '--gin.USE_CACHED_TASKS=False'\n",
    "            ],\n",
    "        },\n",
    "    }\n",
    "]\n",
    "\n",
    "worker_pool_specs"
   ]
  },
  {
   "cell_type": "code",
   "execution_count": 12,
   "metadata": {},
   "outputs": [
    {
     "name": "stdout",
     "output_type": "stream",
     "text": [
      "Creating CustomJob\n",
      "CustomJob created. Resource name: projects/895222332033/locations/us-central1/customJobs/1474935749911511040\n",
      "To use this CustomJob in another session:\n",
      "custom_job = aiplatform.CustomJob.get('projects/895222332033/locations/us-central1/customJobs/1474935749911511040')\n",
      "View Custom Job:\n",
      "https://console.cloud.google.com/ai/platform/locations/us-central1/training/1474935749911511040?project=895222332033\n",
      "CustomJob projects/895222332033/locations/us-central1/customJobs/1474935749911511040 current state:\n",
      "JobState.JOB_STATE_PENDING\n",
      "CustomJob projects/895222332033/locations/us-central1/customJobs/1474935749911511040 current state:\n",
      "JobState.JOB_STATE_PENDING\n",
      "CustomJob projects/895222332033/locations/us-central1/customJobs/1474935749911511040 current state:\n",
      "JobState.JOB_STATE_PENDING\n",
      "CustomJob projects/895222332033/locations/us-central1/customJobs/1474935749911511040 current state:\n",
      "JobState.JOB_STATE_PENDING\n",
      "CustomJob projects/895222332033/locations/us-central1/customJobs/1474935749911511040 current state:\n",
      "JobState.JOB_STATE_PENDING\n",
      "CustomJob projects/895222332033/locations/us-central1/customJobs/1474935749911511040 current state:\n",
      "JobState.JOB_STATE_PENDING\n",
      "CustomJob projects/895222332033/locations/us-central1/customJobs/1474935749911511040 current state:\n",
      "JobState.JOB_STATE_PENDING\n",
      "CustomJob projects/895222332033/locations/us-central1/customJobs/1474935749911511040 current state:\n",
      "JobState.JOB_STATE_PENDING\n",
      "CustomJob projects/895222332033/locations/us-central1/customJobs/1474935749911511040 current state:\n",
      "JobState.JOB_STATE_PENDING\n",
      "CustomJob projects/895222332033/locations/us-central1/customJobs/1474935749911511040 current state:\n",
      "JobState.JOB_STATE_PENDING\n",
      "CustomJob projects/895222332033/locations/us-central1/customJobs/1474935749911511040 current state:\n",
      "JobState.JOB_STATE_PENDING\n",
      "CustomJob projects/895222332033/locations/us-central1/customJobs/1474935749911511040 current state:\n",
      "JobState.JOB_STATE_PENDING\n",
      "CustomJob projects/895222332033/locations/us-central1/customJobs/1474935749911511040 current state:\n",
      "JobState.JOB_STATE_PENDING\n",
      "CustomJob projects/895222332033/locations/us-central1/customJobs/1474935749911511040 current state:\n",
      "JobState.JOB_STATE_PENDING\n",
      "CustomJob projects/895222332033/locations/us-central1/customJobs/1474935749911511040 current state:\n",
      "JobState.JOB_STATE_PENDING\n",
      "CustomJob projects/895222332033/locations/us-central1/customJobs/1474935749911511040 current state:\n",
      "JobState.JOB_STATE_PENDING\n",
      "CustomJob projects/895222332033/locations/us-central1/customJobs/1474935749911511040 current state:\n",
      "JobState.JOB_STATE_PENDING\n",
      "CustomJob projects/895222332033/locations/us-central1/customJobs/1474935749911511040 current state:\n",
      "JobState.JOB_STATE_PENDING\n",
      "CustomJob projects/895222332033/locations/us-central1/customJobs/1474935749911511040 current state:\n",
      "JobState.JOB_STATE_PENDING\n",
      "CustomJob projects/895222332033/locations/us-central1/customJobs/1474935749911511040 current state:\n",
      "JobState.JOB_STATE_PENDING\n",
      "CustomJob projects/895222332033/locations/us-central1/customJobs/1474935749911511040 current state:\n",
      "JobState.JOB_STATE_PENDING\n",
      "CustomJob projects/895222332033/locations/us-central1/customJobs/1474935749911511040 current state:\n",
      "JobState.JOB_STATE_PENDING\n",
      "CustomJob projects/895222332033/locations/us-central1/customJobs/1474935749911511040 current state:\n",
      "JobState.JOB_STATE_PENDING\n",
      "CustomJob projects/895222332033/locations/us-central1/customJobs/1474935749911511040 current state:\n",
      "JobState.JOB_STATE_PENDING\n",
      "CustomJob projects/895222332033/locations/us-central1/customJobs/1474935749911511040 current state:\n",
      "JobState.JOB_STATE_PENDING\n",
      "CustomJob projects/895222332033/locations/us-central1/customJobs/1474935749911511040 current state:\n",
      "JobState.JOB_STATE_PENDING\n",
      "CustomJob projects/895222332033/locations/us-central1/customJobs/1474935749911511040 current state:\n",
      "JobState.JOB_STATE_PENDING\n",
      "CustomJob projects/895222332033/locations/us-central1/customJobs/1474935749911511040 current state:\n",
      "JobState.JOB_STATE_PENDING\n",
      "CustomJob projects/895222332033/locations/us-central1/customJobs/1474935749911511040 current state:\n",
      "JobState.JOB_STATE_PENDING\n",
      "CustomJob projects/895222332033/locations/us-central1/customJobs/1474935749911511040 current state:\n",
      "JobState.JOB_STATE_PENDING\n",
      "CustomJob projects/895222332033/locations/us-central1/customJobs/1474935749911511040 current state:\n",
      "JobState.JOB_STATE_PENDING\n",
      "CustomJob projects/895222332033/locations/us-central1/customJobs/1474935749911511040 current state:\n",
      "JobState.JOB_STATE_PENDING\n",
      "CustomJob projects/895222332033/locations/us-central1/customJobs/1474935749911511040 current state:\n",
      "JobState.JOB_STATE_PENDING\n",
      "CustomJob projects/895222332033/locations/us-central1/customJobs/1474935749911511040 current state:\n",
      "JobState.JOB_STATE_PENDING\n",
      "CustomJob projects/895222332033/locations/us-central1/customJobs/1474935749911511040 current state:\n",
      "JobState.JOB_STATE_PENDING\n",
      "CustomJob projects/895222332033/locations/us-central1/customJobs/1474935749911511040 current state:\n",
      "JobState.JOB_STATE_PENDING\n",
      "CustomJob projects/895222332033/locations/us-central1/customJobs/1474935749911511040 current state:\n",
      "JobState.JOB_STATE_PENDING\n",
      "CustomJob projects/895222332033/locations/us-central1/customJobs/1474935749911511040 current state:\n",
      "JobState.JOB_STATE_PENDING\n",
      "CustomJob projects/895222332033/locations/us-central1/customJobs/1474935749911511040 current state:\n",
      "JobState.JOB_STATE_PENDING\n",
      "CustomJob projects/895222332033/locations/us-central1/customJobs/1474935749911511040 current state:\n",
      "JobState.JOB_STATE_PENDING\n",
      "CustomJob projects/895222332033/locations/us-central1/customJobs/1474935749911511040 current state:\n",
      "JobState.JOB_STATE_PENDING\n",
      "CustomJob projects/895222332033/locations/us-central1/customJobs/1474935749911511040 current state:\n",
      "JobState.JOB_STATE_PENDING\n",
      "CustomJob projects/895222332033/locations/us-central1/customJobs/1474935749911511040 current state:\n",
      "JobState.JOB_STATE_PENDING\n",
      "CustomJob projects/895222332033/locations/us-central1/customJobs/1474935749911511040 current state:\n",
      "JobState.JOB_STATE_PENDING\n",
      "CustomJob projects/895222332033/locations/us-central1/customJobs/1474935749911511040 current state:\n",
      "JobState.JOB_STATE_PENDING\n",
      "CustomJob projects/895222332033/locations/us-central1/customJobs/1474935749911511040 current state:\n",
      "JobState.JOB_STATE_PENDING\n",
      "CustomJob projects/895222332033/locations/us-central1/customJobs/1474935749911511040 current state:\n",
      "JobState.JOB_STATE_PENDING\n",
      "CustomJob projects/895222332033/locations/us-central1/customJobs/1474935749911511040 current state:\n",
      "JobState.JOB_STATE_PENDING\n",
      "CustomJob projects/895222332033/locations/us-central1/customJobs/1474935749911511040 current state:\n",
      "JobState.JOB_STATE_PENDING\n",
      "CustomJob projects/895222332033/locations/us-central1/customJobs/1474935749911511040 current state:\n",
      "JobState.JOB_STATE_PENDING\n",
      "CustomJob projects/895222332033/locations/us-central1/customJobs/1474935749911511040 current state:\n",
      "JobState.JOB_STATE_PENDING\n",
      "CustomJob projects/895222332033/locations/us-central1/customJobs/1474935749911511040 current state:\n",
      "JobState.JOB_STATE_PENDING\n",
      "CustomJob projects/895222332033/locations/us-central1/customJobs/1474935749911511040 current state:\n",
      "JobState.JOB_STATE_PENDING\n",
      "CustomJob projects/895222332033/locations/us-central1/customJobs/1474935749911511040 current state:\n",
      "JobState.JOB_STATE_PENDING\n",
      "CustomJob projects/895222332033/locations/us-central1/customJobs/1474935749911511040 current state:\n",
      "JobState.JOB_STATE_PENDING\n",
      "CustomJob projects/895222332033/locations/us-central1/customJobs/1474935749911511040 current state:\n",
      "JobState.JOB_STATE_PENDING\n",
      "CustomJob projects/895222332033/locations/us-central1/customJobs/1474935749911511040 current state:\n",
      "JobState.JOB_STATE_PENDING\n",
      "CustomJob projects/895222332033/locations/us-central1/customJobs/1474935749911511040 current state:\n",
      "JobState.JOB_STATE_PENDING\n",
      "CustomJob projects/895222332033/locations/us-central1/customJobs/1474935749911511040 current state:\n",
      "JobState.JOB_STATE_PENDING\n",
      "CustomJob projects/895222332033/locations/us-central1/customJobs/1474935749911511040 current state:\n",
      "JobState.JOB_STATE_PENDING\n",
      "CustomJob projects/895222332033/locations/us-central1/customJobs/1474935749911511040 current state:\n",
      "JobState.JOB_STATE_PENDING\n",
      "CustomJob projects/895222332033/locations/us-central1/customJobs/1474935749911511040 current state:\n",
      "JobState.JOB_STATE_PENDING\n",
      "CustomJob projects/895222332033/locations/us-central1/customJobs/1474935749911511040 current state:\n",
      "JobState.JOB_STATE_PENDING\n",
      "CustomJob projects/895222332033/locations/us-central1/customJobs/1474935749911511040 current state:\n",
      "JobState.JOB_STATE_PENDING\n",
      "CustomJob projects/895222332033/locations/us-central1/customJobs/1474935749911511040 current state:\n",
      "JobState.JOB_STATE_PENDING\n",
      "CustomJob projects/895222332033/locations/us-central1/customJobs/1474935749911511040 current state:\n",
      "JobState.JOB_STATE_PENDING\n",
      "CustomJob projects/895222332033/locations/us-central1/customJobs/1474935749911511040 current state:\n",
      "JobState.JOB_STATE_PENDING\n",
      "CustomJob projects/895222332033/locations/us-central1/customJobs/1474935749911511040 current state:\n",
      "JobState.JOB_STATE_PENDING\n",
      "CustomJob projects/895222332033/locations/us-central1/customJobs/1474935749911511040 current state:\n",
      "JobState.JOB_STATE_PENDING\n",
      "CustomJob projects/895222332033/locations/us-central1/customJobs/1474935749911511040 current state:\n",
      "JobState.JOB_STATE_PENDING\n",
      "CustomJob projects/895222332033/locations/us-central1/customJobs/1474935749911511040 current state:\n",
      "JobState.JOB_STATE_PENDING\n",
      "CustomJob projects/895222332033/locations/us-central1/customJobs/1474935749911511040 current state:\n",
      "JobState.JOB_STATE_PENDING\n",
      "CustomJob projects/895222332033/locations/us-central1/customJobs/1474935749911511040 current state:\n",
      "JobState.JOB_STATE_PENDING\n",
      "CustomJob projects/895222332033/locations/us-central1/customJobs/1474935749911511040 current state:\n",
      "JobState.JOB_STATE_PENDING\n",
      "CustomJob projects/895222332033/locations/us-central1/customJobs/1474935749911511040 current state:\n",
      "JobState.JOB_STATE_PENDING\n",
      "CustomJob projects/895222332033/locations/us-central1/customJobs/1474935749911511040 current state:\n",
      "JobState.JOB_STATE_PENDING\n",
      "CustomJob projects/895222332033/locations/us-central1/customJobs/1474935749911511040 current state:\n",
      "JobState.JOB_STATE_PENDING\n",
      "CustomJob projects/895222332033/locations/us-central1/customJobs/1474935749911511040 current state:\n",
      "JobState.JOB_STATE_PENDING\n",
      "CustomJob projects/895222332033/locations/us-central1/customJobs/1474935749911511040 current state:\n",
      "JobState.JOB_STATE_PENDING\n",
      "CustomJob projects/895222332033/locations/us-central1/customJobs/1474935749911511040 current state:\n",
      "JobState.JOB_STATE_FAILED\n"
     ]
    },
    {
     "ename": "RuntimeError",
     "evalue": "Job failed with:\ncode: 3\nmessage: \"The replica workerpool0-0 exited with a non-zero status of 1. To find out more about why your job exited please check the logs: https://console.cloud.google.com/logs/viewer?project=895222332033&resource=ml_job%2Fjob_id%2F1474935749911511040&advancedFilter=resource.type%3D%22ml_job%22%0Aresource.labels.job_id%3D%221474935749911511040%22\"\n",
     "output_type": "error",
     "traceback": [
      "\u001b[0;31m---------------------------------------------------------------------------\u001b[0m",
      "\u001b[0;31mRuntimeError\u001b[0m                              Traceback (most recent call last)",
      "\u001b[1;32m/home/jarekk/t5x-sandbox/examples/finetuning_single_tpu/finetuning.ipynb Cell 7\u001b[0m in \u001b[0;36m<cell line: 8>\u001b[0;34m()\u001b[0m\n\u001b[1;32m      <a href='vscode-notebook-cell://ssh-remote%2Bjk-v3-8/home/jarekk/t5x-sandbox/examples/finetuning_single_tpu/finetuning.ipynb#ch0000005vscode-remote?line=0'>1</a>\u001b[0m job_name \u001b[39m=\u001b[39m \u001b[39m'\u001b[39m\u001b[39mt5x_\u001b[39m\u001b[39m{}\u001b[39;00m\u001b[39m'\u001b[39m\u001b[39m.\u001b[39mformat(time\u001b[39m.\u001b[39mstrftime(\u001b[39m\"\u001b[39m\u001b[39m%\u001b[39m\u001b[39mY\u001b[39m\u001b[39m%\u001b[39m\u001b[39mm\u001b[39m\u001b[39m%d\u001b[39;00m\u001b[39m_\u001b[39m\u001b[39m%\u001b[39m\u001b[39mH\u001b[39m\u001b[39m%\u001b[39m\u001b[39mM\u001b[39m\u001b[39m%\u001b[39m\u001b[39mS\u001b[39m\u001b[39m\"\u001b[39m))\n\u001b[1;32m      <a href='vscode-notebook-cell://ssh-remote%2Bjk-v3-8/home/jarekk/t5x-sandbox/examples/finetuning_single_tpu/finetuning.ipynb#ch0000005vscode-remote?line=2'>3</a>\u001b[0m job \u001b[39m=\u001b[39m vertex_ai\u001b[39m.\u001b[39mCustomJob(\n\u001b[1;32m      <a href='vscode-notebook-cell://ssh-remote%2Bjk-v3-8/home/jarekk/t5x-sandbox/examples/finetuning_single_tpu/finetuning.ipynb#ch0000005vscode-remote?line=3'>4</a>\u001b[0m     display_name\u001b[39m=\u001b[39mjob_name,\n\u001b[1;32m      <a href='vscode-notebook-cell://ssh-remote%2Bjk-v3-8/home/jarekk/t5x-sandbox/examples/finetuning_single_tpu/finetuning.ipynb#ch0000005vscode-remote?line=4'>5</a>\u001b[0m     worker_pool_specs\u001b[39m=\u001b[39mworker_pool_specs,\n\u001b[1;32m      <a href='vscode-notebook-cell://ssh-remote%2Bjk-v3-8/home/jarekk/t5x-sandbox/examples/finetuning_single_tpu/finetuning.ipynb#ch0000005vscode-remote?line=5'>6</a>\u001b[0m )\n\u001b[0;32m----> <a href='vscode-notebook-cell://ssh-remote%2Bjk-v3-8/home/jarekk/t5x-sandbox/examples/finetuning_single_tpu/finetuning.ipynb#ch0000005vscode-remote?line=7'>8</a>\u001b[0m job\u001b[39m.\u001b[39;49mrun(\n\u001b[1;32m      <a href='vscode-notebook-cell://ssh-remote%2Bjk-v3-8/home/jarekk/t5x-sandbox/examples/finetuning_single_tpu/finetuning.ipynb#ch0000005vscode-remote?line=8'>9</a>\u001b[0m     sync\u001b[39m=\u001b[39;49m\u001b[39mTrue\u001b[39;49;00m\n\u001b[1;32m     <a href='vscode-notebook-cell://ssh-remote%2Bjk-v3-8/home/jarekk/t5x-sandbox/examples/finetuning_single_tpu/finetuning.ipynb#ch0000005vscode-remote?line=9'>10</a>\u001b[0m )\n",
      "File \u001b[0;32m~/.local/lib/python3.8/site-packages/google/cloud/aiplatform/base.py:788\u001b[0m, in \u001b[0;36moptional_sync.<locals>.optional_run_in_thread.<locals>.wrapper\u001b[0;34m(*args, **kwargs)\u001b[0m\n\u001b[1;32m    786\u001b[0m     \u001b[39mif\u001b[39;00m \u001b[39mself\u001b[39m:\n\u001b[1;32m    787\u001b[0m         VertexAiResourceNounWithFutureManager\u001b[39m.\u001b[39mwait(\u001b[39mself\u001b[39m)\n\u001b[0;32m--> 788\u001b[0m     \u001b[39mreturn\u001b[39;00m method(\u001b[39m*\u001b[39;49margs, \u001b[39m*\u001b[39;49m\u001b[39m*\u001b[39;49mkwargs)\n\u001b[1;32m    790\u001b[0m \u001b[39m# callbacks to call within the Future (in same Thread)\u001b[39;00m\n\u001b[1;32m    791\u001b[0m internal_callbacks \u001b[39m=\u001b[39m []\n",
      "File \u001b[0;32m~/.local/lib/python3.8/site-packages/google/cloud/aiplatform/jobs.py:1516\u001b[0m, in \u001b[0;36mCustomJob.run\u001b[0;34m(self, service_account, network, timeout, restart_job_on_worker_restart, enable_web_access, tensorboard, sync, create_request_timeout)\u001b[0m\n\u001b[1;32m   1508\u001b[0m \u001b[39mif\u001b[39;00m tensorboard:\n\u001b[1;32m   1509\u001b[0m     _LOGGER\u001b[39m.\u001b[39minfo(\n\u001b[1;32m   1510\u001b[0m         \u001b[39m\"\u001b[39m\u001b[39mView Tensorboard:\u001b[39m\u001b[39m\\n\u001b[39;00m\u001b[39m%s\u001b[39;00m\u001b[39m\"\u001b[39m\n\u001b[1;32m   1511\u001b[0m         \u001b[39m%\u001b[39m console_utils\u001b[39m.\u001b[39mcustom_job_tensorboard_console_uri(\n\u001b[1;32m   1512\u001b[0m             tensorboard, \u001b[39mself\u001b[39m\u001b[39m.\u001b[39mresource_name\n\u001b[1;32m   1513\u001b[0m         )\n\u001b[1;32m   1514\u001b[0m     )\n\u001b[0;32m-> 1516\u001b[0m \u001b[39mself\u001b[39;49m\u001b[39m.\u001b[39;49m_block_until_complete()\n",
      "File \u001b[0;32m~/.local/lib/python3.8/site-packages/google/cloud/aiplatform/jobs.py:979\u001b[0m, in \u001b[0;36m_RunnableJob._block_until_complete\u001b[0;34m(self)\u001b[0m\n\u001b[1;32m    976\u001b[0m \u001b[39m# Error is only populated when the job state is\u001b[39;00m\n\u001b[1;32m    977\u001b[0m \u001b[39m# JOB_STATE_FAILED or JOB_STATE_CANCELLED.\u001b[39;00m\n\u001b[1;32m    978\u001b[0m \u001b[39mif\u001b[39;00m \u001b[39mself\u001b[39m\u001b[39m.\u001b[39m_gca_resource\u001b[39m.\u001b[39mstate \u001b[39min\u001b[39;00m _JOB_ERROR_STATES:\n\u001b[0;32m--> 979\u001b[0m     \u001b[39mraise\u001b[39;00m \u001b[39mRuntimeError\u001b[39;00m(\u001b[39m\"\u001b[39m\u001b[39mJob failed with:\u001b[39m\u001b[39m\\n\u001b[39;00m\u001b[39m%s\u001b[39;00m\u001b[39m\"\u001b[39m \u001b[39m%\u001b[39m \u001b[39mself\u001b[39m\u001b[39m.\u001b[39m_gca_resource\u001b[39m.\u001b[39merror)\n\u001b[1;32m    980\u001b[0m \u001b[39melse\u001b[39;00m:\n\u001b[1;32m    981\u001b[0m     _LOGGER\u001b[39m.\u001b[39mlog_action_completed_against_resource(\u001b[39m\"\u001b[39m\u001b[39mrun\u001b[39m\u001b[39m\"\u001b[39m, \u001b[39m\"\u001b[39m\u001b[39mcompleted\u001b[39m\u001b[39m\"\u001b[39m, \u001b[39mself\u001b[39m)\n",
      "\u001b[0;31mRuntimeError\u001b[0m: Job failed with:\ncode: 3\nmessage: \"The replica workerpool0-0 exited with a non-zero status of 1. To find out more about why your job exited please check the logs: https://console.cloud.google.com/logs/viewer?project=895222332033&resource=ml_job%2Fjob_id%2F1474935749911511040&advancedFilter=resource.type%3D%22ml_job%22%0Aresource.labels.job_id%3D%221474935749911511040%22\"\n"
     ]
    }
   ],
   "source": [
    "job_name = 't5x_{}'.format(time.strftime(\"%Y%m%d_%H%M%S\"))\n",
    "\n",
    "job = vertex_ai.CustomJob(\n",
    "    display_name=job_name,\n",
    "    worker_pool_specs=worker_pool_specs,\n",
    ")\n",
    "\n",
    "job.run(\n",
    "    sync=True\n",
    ")"
   ]
  },
  {
   "cell_type": "code",
   "execution_count": null,
   "metadata": {},
   "outputs": [],
   "source": []
  }
 ],
 "metadata": {
  "kernelspec": {
   "display_name": "Python 3.8.10 64-bit",
   "language": "python",
   "name": "python3"
  },
  "language_info": {
   "codemirror_mode": {
    "name": "ipython",
    "version": 3
   },
   "file_extension": ".py",
   "mimetype": "text/x-python",
   "name": "python",
   "nbconvert_exporter": "python",
   "pygments_lexer": "ipython3",
   "version": "3.8.10"
  },
  "orig_nbformat": 4,
  "vscode": {
   "interpreter": {
    "hash": "31f2aee4e71d21fbe5cf8b01ff0e069b9275f58929596ceb00d14d90e3e16cd6"
   }
  }
 },
 "nbformat": 4,
 "nbformat_minor": 2
}
