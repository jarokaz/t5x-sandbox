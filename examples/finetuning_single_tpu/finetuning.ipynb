{
 "cells": [
  {
   "cell_type": "markdown",
   "metadata": {},
   "source": [
    "# T5X fine tuning"
   ]
  },
  {
   "cell_type": "code",
   "execution_count": 1,
   "metadata": {},
   "outputs": [
    {
     "name": "stderr",
     "output_type": "stream",
     "text": [
      "/usr/local/lib/python3.8/dist-packages/pkg_resources/__init__.py:123: PkgResourcesDeprecationWarning: 0.1.36ubuntu1 is an invalid version and will not be supported in a future release\n",
      "  warnings.warn(\n",
      "/usr/local/lib/python3.8/dist-packages/pkg_resources/__init__.py:123: PkgResourcesDeprecationWarning: 0.23ubuntu1 is an invalid version and will not be supported in a future release\n",
      "  warnings.warn(\n"
     ]
    }
   ],
   "source": [
    "import os\n",
    "import time\n",
    "\n",
    "from google.cloud import aiplatform as vertex_ai"
   ]
  },
  {
   "cell_type": "code",
   "execution_count": 28,
   "metadata": {},
   "outputs": [],
   "source": [
    "PROJECT_ID = 'jk-mlops-dev'\n",
    "BUCKET = 'jk-t5x-staging'\n",
    "REGION = 'us-central1'\n",
    "IMAGE_URI = f'gcr.io/{PROJECT_ID}/t5x_base'"
   ]
  },
  {
   "cell_type": "code",
   "execution_count": 29,
   "metadata": {},
   "outputs": [],
   "source": [
    "vertex_ai.init(\n",
    "    project=PROJECT_ID,\n",
    "    location=REGION,\n",
    "    staging_bucket=f'gs://{BUCKET}/staging',\n",
    ")"
   ]
  },
  {
   "cell_type": "code",
   "execution_count": 30,
   "metadata": {},
   "outputs": [
    {
     "name": "stdout",
     "output_type": "stream",
     "text": [
      "Copying file://small_finetune_wmt.gin [Content-Type=application/octet-stream]...\n",
      "/ [1 files][  586.0 B/  586.0 B]                                                \n",
      "Operation completed over 1 objects/586.0 B.                                      \n"
     ]
    }
   ],
   "source": [
    "MODEL_DISPLAY_NAME = 'fine-tune-squad'\n",
    "GIN_FILE = 'small_finetune_wmt.gin'\n",
    "GIN_FILE_GCS = f'gs://{BUCKET}/staging/{GIN_FILE}'\n",
    "!gsutil cp {GIN_FILE} {GIN_FILE_GCS}\n",
    "GIN_FILE_GCS = GIN_FILE_GCS.replace('gs://', '/gcs/')\n",
    "RUN_MODE = 'train'\n",
    "MODEL_DIR = f'gs://{BUCKET}/jobs/{time.strftime(\"%Y%m%d_%H%M%S\")}'\n",
    "TFDS_DATA_DIR = f'gs://{BUCKET}/dataset/{MODEL_DISPLAY_NAME}'"
   ]
  },
  {
   "cell_type": "code",
   "execution_count": 31,
   "metadata": {},
   "outputs": [
    {
     "data": {
      "text/plain": [
       "[{'machine_spec': {'machine_type': 'cloud-tpu',\n",
       "   'accelerator_type': 'TPU_V2',\n",
       "   'accelerator_count': 8},\n",
       "  'replica_count': 1,\n",
       "  'container_spec': {'image_uri': 'gcr.io/jk-mlops-dev/t5x_base',\n",
       "   'args': ['--run_mode=train',\n",
       "    '--gin_file=/gcs/jk-t5x-staging/staging/small_finetune_wmt.gin',\n",
       "    '--gin.MODEL_DIR=\"gs://jk-t5x-staging/jobs/20220720_182507\"',\n",
       "    '--tfds_data_dir=gs://jk-t5x-staging/dataset/fine-tune-squad',\n",
       "    '--gin.USE_CACHED_TASKS=False']}}]"
      ]
     },
     "execution_count": 31,
     "metadata": {},
     "output_type": "execute_result"
    }
   ],
   "source": [
    "worker_pool_specs =  [\n",
    "    {\n",
    "        \"machine_spec\": {\n",
    "            \"machine_type\": \"cloud-tpu\",\n",
    "            \"accelerator_type\": \"TPU_V2\",\n",
    "            \"accelerator_count\": 8,\n",
    "        },\n",
    "        \"replica_count\": 1,\n",
    "        \"container_spec\": {\n",
    "            \"image_uri\": IMAGE_URI,\n",
    "            \"args\": [\n",
    "                f'--run_mode={RUN_MODE}',\n",
    "                f'--gin_file={GIN_FILE_GCS}',\n",
    "                f'--gin.MODEL_DIR=\"{MODEL_DIR}\"',\n",
    "                f'--tfds_data_dir={TFDS_DATA_DIR}',\n",
    "                '--gin.USE_CACHED_TASKS=False'\n",
    "            ],\n",
    "        },\n",
    "    }\n",
    "]\n",
    "\n",
    "worker_pool_specs"
   ]
  },
  {
   "cell_type": "code",
   "execution_count": 32,
   "metadata": {},
   "outputs": [
    {
     "name": "stdout",
     "output_type": "stream",
     "text": [
      "Creating CustomJob\n",
      "CustomJob created. Resource name: projects/895222332033/locations/us-central1/customJobs/3577976038405177344\n",
      "To use this CustomJob in another session:\n",
      "custom_job = aiplatform.CustomJob.get('projects/895222332033/locations/us-central1/customJobs/3577976038405177344')\n",
      "View Custom Job:\n",
      "https://console.cloud.google.com/ai/platform/locations/us-central1/training/3577976038405177344?project=895222332033\n",
      "CustomJob projects/895222332033/locations/us-central1/customJobs/3577976038405177344 current state:\n",
      "JobState.JOB_STATE_PENDING\n",
      "CustomJob projects/895222332033/locations/us-central1/customJobs/3577976038405177344 current state:\n",
      "JobState.JOB_STATE_PENDING\n",
      "CustomJob projects/895222332033/locations/us-central1/customJobs/3577976038405177344 current state:\n",
      "JobState.JOB_STATE_PENDING\n",
      "CustomJob projects/895222332033/locations/us-central1/customJobs/3577976038405177344 current state:\n",
      "JobState.JOB_STATE_PENDING\n"
     ]
    }
   ],
   "source": [
    "job_name = 't5x_{}'.format(time.strftime(\"%Y%m%d_%H%M%S\"))\n",
    "\n",
    "job = vertex_ai.CustomJob(\n",
    "    display_name=job_name,\n",
    "    worker_pool_specs=worker_pool_specs,\n",
    ")\n",
    "\n",
    "job.run(\n",
    "    sync=True\n",
    ")"
   ]
  },
  {
   "cell_type": "code",
   "execution_count": null,
   "metadata": {},
   "outputs": [],
   "source": []
  }
 ],
 "metadata": {
  "kernelspec": {
   "display_name": "Python 3.8.10 64-bit",
   "language": "python",
   "name": "python3"
  },
  "language_info": {
   "codemirror_mode": {
    "name": "ipython",
    "version": 3
   },
   "file_extension": ".py",
   "mimetype": "text/x-python",
   "name": "python",
   "nbconvert_exporter": "python",
   "pygments_lexer": "ipython3",
   "version": "3.8.10"
  },
  "orig_nbformat": 4,
  "vscode": {
   "interpreter": {
    "hash": "31f2aee4e71d21fbe5cf8b01ff0e069b9275f58929596ceb00d14d90e3e16cd6"
   }
  }
 },
 "nbformat": 4,
 "nbformat_minor": 2
}
