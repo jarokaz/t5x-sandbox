{
 "cells": [
  {
   "cell_type": "markdown",
   "metadata": {},
   "source": [
    "# Parallelism"
   ]
  },
  {
   "cell_type": "code",
   "execution_count": 22,
   "metadata": {},
   "outputs": [],
   "source": [
    "import numpy as np\n",
    "\n",
    "import jax\n",
    "import jax.numpy as jnp\n",
    "\n",
    "from jax import jit, random, pmap, vmap, lax"
   ]
  },
  {
   "cell_type": "markdown",
   "metadata": {},
   "source": [
    "### Numpy baseline"
   ]
  },
  {
   "cell_type": "code",
   "execution_count": 2,
   "metadata": {},
   "outputs": [
    {
     "data": {
      "text/plain": [
       "(8, 4096, 4096)"
      ]
     },
     "execution_count": 2,
     "metadata": {},
     "output_type": "execute_result"
    }
   ],
   "source": [
    "x = np.ones((8, 4096, 4096))\n",
    "np.matmul(x, x).shape"
   ]
  },
  {
   "cell_type": "code",
   "execution_count": 3,
   "metadata": {},
   "outputs": [
    {
     "name": "stdout",
     "output_type": "stream",
     "text": [
      "1.78 s ± 35.9 ms per loop (mean ± std. dev. of 5 runs, 5 loops each)\n"
     ]
    }
   ],
   "source": [
    "%timeit -n 5 -r 5 np.matmul(x, x)"
   ]
  },
  {
   "cell_type": "markdown",
   "metadata": {},
   "source": [
    "### Jax acceleration"
   ]
  },
  {
   "cell_type": "code",
   "execution_count": 4,
   "metadata": {},
   "outputs": [
    {
     "data": {
      "text/plain": [
       "[TpuDevice(id=0, process_index=0, coords=(0,0,0), core_on_chip=0),\n",
       " TpuDevice(id=1, process_index=0, coords=(0,0,0), core_on_chip=1),\n",
       " TpuDevice(id=2, process_index=0, coords=(1,0,0), core_on_chip=0),\n",
       " TpuDevice(id=3, process_index=0, coords=(1,0,0), core_on_chip=1),\n",
       " TpuDevice(id=4, process_index=0, coords=(0,1,0), core_on_chip=0),\n",
       " TpuDevice(id=5, process_index=0, coords=(0,1,0), core_on_chip=1),\n",
       " TpuDevice(id=6, process_index=0, coords=(1,1,0), core_on_chip=0),\n",
       " TpuDevice(id=7, process_index=0, coords=(1,1,0), core_on_chip=1)]"
      ]
     },
     "execution_count": 4,
     "metadata": {},
     "output_type": "execute_result"
    }
   ],
   "source": [
    "jax.devices()"
   ]
  },
  {
   "cell_type": "code",
   "execution_count": 5,
   "metadata": {},
   "outputs": [
    {
     "data": {
      "text/plain": [
       "(8, 4096, 4096)"
      ]
     },
     "execution_count": 5,
     "metadata": {},
     "output_type": "execute_result"
    }
   ],
   "source": [
    "x = jnp.ones((8, 4096, 4096))\n",
    "jnp.matmul(x, x).shape"
   ]
  },
  {
   "cell_type": "code",
   "execution_count": 6,
   "metadata": {},
   "outputs": [
    {
     "name": "stdout",
     "output_type": "stream",
     "text": [
      "20.8 ms ± 102 µs per loop (mean ± std. dev. of 5 runs, 5 loops each)\n"
     ]
    }
   ],
   "source": [
    "%timeit -n 5 -r 5 jnp.matmul(x, x).block_until_ready()"
   ]
  },
  {
   "cell_type": "markdown",
   "metadata": {},
   "source": [
    "### PMAP"
   ]
  },
  {
   "cell_type": "code",
   "execution_count": 7,
   "metadata": {},
   "outputs": [
    {
     "name": "stdout",
     "output_type": "stream",
     "text": [
      "(8, 4096, 4096)\n",
      "<class 'jaxlib.xla_extension.pmap_lib.ShardedDeviceArray'>\n"
     ]
    }
   ],
   "source": [
    "\n",
    "xd = pmap(lambda x: jnp.ones((4096, 4096)))(np.arange(8))\n",
    "print(xd.shape)\n",
    "print(type(xd))"
   ]
  },
  {
   "cell_type": "code",
   "execution_count": 10,
   "metadata": {},
   "outputs": [
    {
     "name": "stdout",
     "output_type": "stream",
     "text": [
      "(8, 4096, 4096)\n",
      "<class 'jaxlib.xla_extension.pmap_lib.ShardedDeviceArray'>\n"
     ]
    }
   ],
   "source": [
    "yd = pmap(jnp.matmul)(xd, xd)\n",
    "print(yd.shape)\n",
    "print(type(yd))"
   ]
  },
  {
   "cell_type": "code",
   "execution_count": 11,
   "metadata": {},
   "outputs": [
    {
     "data": {
      "text/plain": [
       "DeviceArray([[4096., 4096., 4096., ..., 4096., 4096., 4096.],\n",
       "             [4096., 4096., 4096., ..., 4096., 4096., 4096.],\n",
       "             [4096., 4096., 4096., ..., 4096., 4096., 4096.],\n",
       "             ...,\n",
       "             [4096., 4096., 4096., ..., 4096., 4096., 4096.],\n",
       "             [4096., 4096., 4096., ..., 4096., 4096., 4096.],\n",
       "             [4096., 4096., 4096., ..., 4096., 4096., 4096.]],            dtype=float32)"
      ]
     },
     "execution_count": 11,
     "metadata": {},
     "output_type": "execute_result"
    }
   ],
   "source": [
    "yd[0]"
   ]
  },
  {
   "cell_type": "code",
   "execution_count": 20,
   "metadata": {},
   "outputs": [
    {
     "name": "stdout",
     "output_type": "stream",
     "text": [
      "4.45 ms ± 357 µs per loop (mean ± std. dev. of 5 runs, 5 loops each)\n"
     ]
    }
   ],
   "source": [
    "%timeit -r 5 -n 5 pmap(jnp.matmul)(xd, xd).block_until_ready()"
   ]
  },
  {
   "cell_type": "markdown",
   "metadata": {},
   "source": [
    "### Collective operations "
   ]
  },
  {
   "cell_type": "code",
   "execution_count": 38,
   "metadata": {},
   "outputs": [
    {
     "name": "stdout",
     "output_type": "stream",
     "text": [
      "(8,)\n",
      "[0.         0.03571429 0.07142857 0.10714287 0.14285715 0.17857143\n",
      " 0.21428573 0.25      ]\n",
      "1.0\n"
     ]
    }
   ],
   "source": [
    "def normalize(x):\n",
    "    return x / lax.psum(x, axis_name='p')\n",
    "\n",
    "y_n = pmap(normalize, axis_name='p')(jnp.arange(8))\n",
    "print(y_n.shape)\n",
    "print(y_n)\n",
    "print(y_n.sum())"
   ]
  },
  {
   "cell_type": "code",
   "execution_count": 41,
   "metadata": {},
   "outputs": [
    {
     "data": {
      "text/plain": [
       "array([1., 1., 1., 1., 1., 1., 1., 1.])"
      ]
     },
     "execution_count": 41,
     "metadata": {},
     "output_type": "execute_result"
    }
   ],
   "source": [
    "x = np.ones(8)\n",
    "x"
   ]
  },
  {
   "cell_type": "code",
   "execution_count": 42,
   "metadata": {},
   "outputs": [
    {
     "data": {
      "text/plain": [
       "ShardedDeviceArray([8., 8., 8., 8., 8., 8., 8., 8.], dtype=float32)"
      ]
     },
     "execution_count": 42,
     "metadata": {},
     "output_type": "execute_result"
    }
   ],
   "source": [
    "pmap(lambda x: jax.lax.psum(x, axis_name='i'), axis_name='i')(x)"
   ]
  },
  {
   "cell_type": "markdown",
   "metadata": {},
   "source": [
    "### PJIT"
   ]
  },
  {
   "cell_type": "code",
   "execution_count": 43,
   "metadata": {},
   "outputs": [],
   "source": [
    "import jax\n",
    "from jax.experimental import maps\n",
    "from jax.experimental import PartitionSpec\n",
    "from jax.experimental.pjit import pjit\n",
    "import numpy as np"
   ]
  },
  {
   "cell_type": "markdown",
   "metadata": {},
   "source": []
  },
  {
   "cell_type": "code",
   "execution_count": 44,
   "metadata": {},
   "outputs": [
    {
     "data": {
      "text/plain": [
       "Mesh(array([[0, 1],\n",
       "       [2, 3],\n",
       "       [4, 5],\n",
       "       [6, 7]]), ('x', 'y'))"
      ]
     },
     "execution_count": 44,
     "metadata": {},
     "output_type": "execute_result"
    }
   ],
   "source": [
    "mesh_shape = (4, 2)\n",
    "devices = np.asarray(jax.devices()).reshape(*mesh_shape)\n",
    "# 'x', 'y' axis names are used here for simplicity\n",
    "mesh = maps.Mesh(devices, ('x', 'y'))\n",
    "mesh"
   ]
  },
  {
   "cell_type": "code",
   "execution_count": 45,
   "metadata": {},
   "outputs": [
    {
     "data": {
      "text/plain": [
       "array([[ 0,  1],\n",
       "       [ 2,  3],\n",
       "       [ 4,  5],\n",
       "       [ 6,  7],\n",
       "       [ 8,  9],\n",
       "       [10, 11],\n",
       "       [12, 13],\n",
       "       [14, 15]])"
      ]
     },
     "execution_count": 45,
     "metadata": {},
     "output_type": "execute_result"
    }
   ],
   "source": [
    "input_data = np.arange(8 * 2).reshape(8, 2)\n",
    "input_data"
   ]
  },
  {
   "cell_type": "code",
   "execution_count": 46,
   "metadata": {},
   "outputs": [],
   "source": [
    "in_axis_resources=None\n",
    "out_axis_resources=PartitionSpec('x', 'y')"
   ]
  },
  {
   "cell_type": "code",
   "execution_count": 47,
   "metadata": {},
   "outputs": [],
   "source": [
    "f = pjit(\n",
    "  lambda x: x,\n",
    "  in_axis_resources=None,\n",
    "  out_axis_resources=PartitionSpec('x', 'y'))\n",
    " \n",
    "# Sends data to accelerators based on partition_spec\n",
    "with maps.Mesh(mesh.devices, mesh.axis_names):\n",
    " data = f(input_data)"
   ]
  },
  {
   "cell_type": "code",
   "execution_count": 48,
   "metadata": {},
   "outputs": [
    {
     "data": {
      "text/plain": [
       "ShardedDeviceArray([[ 0,  1],\n",
       "                    [ 2,  3],\n",
       "                    [ 4,  5],\n",
       "                    [ 6,  7],\n",
       "                    [ 8,  9],\n",
       "                    [10, 11],\n",
       "                    [12, 13],\n",
       "                    [14, 15]], dtype=int32)"
      ]
     },
     "execution_count": 48,
     "metadata": {},
     "output_type": "execute_result"
    }
   ],
   "source": [
    "data"
   ]
  },
  {
   "cell_type": "code",
   "execution_count": 49,
   "metadata": {},
   "outputs": [
    {
     "data": {
      "text/plain": [
       "[DeviceArray([[0],\n",
       "              [2]], dtype=int32),\n",
       " DeviceArray([[1],\n",
       "              [3]], dtype=int32),\n",
       " DeviceArray([[4],\n",
       "              [6]], dtype=int32),\n",
       " DeviceArray([[5],\n",
       "              [7]], dtype=int32),\n",
       " DeviceArray([[ 8],\n",
       "              [10]], dtype=int32),\n",
       " DeviceArray([[ 9],\n",
       "              [11]], dtype=int32),\n",
       " DeviceArray([[12],\n",
       "              [14]], dtype=int32),\n",
       " DeviceArray([[13],\n",
       "              [15]], dtype=int32)]"
      ]
     },
     "execution_count": 49,
     "metadata": {},
     "output_type": "execute_result"
    }
   ],
   "source": [
    "data.device_buffers"
   ]
  },
  {
   "cell_type": "code",
   "execution_count": 52,
   "metadata": {},
   "outputs": [
    {
     "data": {
      "text/plain": [
       "ShardedDeviceArray([[ 0,  1],\n",
       "                    [ 2,  3],\n",
       "                    [ 4,  5],\n",
       "                    [ 6,  7],\n",
       "                    [ 8,  9],\n",
       "                    [10, 11],\n",
       "                    [12, 13],\n",
       "                    [14, 15]], dtype=int32)"
      ]
     },
     "execution_count": 52,
     "metadata": {},
     "output_type": "execute_result"
    }
   ],
   "source": [
    "f = pjit(\n",
    "  lambda x: x,\n",
    "  in_axis_resources=None,\n",
    "  out_axis_resources=PartitionSpec('x', None))\n",
    " \n",
    "with maps.Mesh(mesh.devices, mesh.axis_names):\n",
    " data = f(input_data)\n",
    "\n",
    "data"
   ]
  },
  {
   "cell_type": "code",
   "execution_count": 53,
   "metadata": {},
   "outputs": [
    {
     "data": {
      "text/plain": [
       "[DeviceArray([[0, 1],\n",
       "              [2, 3]], dtype=int32),\n",
       " DeviceArray([[0, 1],\n",
       "              [2, 3]], dtype=int32),\n",
       " DeviceArray([[4, 5],\n",
       "              [6, 7]], dtype=int32),\n",
       " DeviceArray([[4, 5],\n",
       "              [6, 7]], dtype=int32),\n",
       " DeviceArray([[ 8,  9],\n",
       "              [10, 11]], dtype=int32),\n",
       " DeviceArray([[ 8,  9],\n",
       "              [10, 11]], dtype=int32),\n",
       " DeviceArray([[12, 13],\n",
       "              [14, 15]], dtype=int32),\n",
       " DeviceArray([[12, 13],\n",
       "              [14, 15]], dtype=int32)]"
      ]
     },
     "execution_count": 53,
     "metadata": {},
     "output_type": "execute_result"
    }
   ],
   "source": [
    "data.device_buffers"
   ]
  },
  {
   "cell_type": "code",
   "execution_count": 54,
   "metadata": {},
   "outputs": [
    {
     "data": {
      "text/plain": [
       "[DeviceArray([[0, 1],\n",
       "              [2, 3],\n",
       "              [4, 5],\n",
       "              [6, 7]], dtype=int32),\n",
       " DeviceArray([[ 8,  9],\n",
       "              [10, 11],\n",
       "              [12, 13],\n",
       "              [14, 15]], dtype=int32),\n",
       " DeviceArray([[0, 1],\n",
       "              [2, 3],\n",
       "              [4, 5],\n",
       "              [6, 7]], dtype=int32),\n",
       " DeviceArray([[ 8,  9],\n",
       "              [10, 11],\n",
       "              [12, 13],\n",
       "              [14, 15]], dtype=int32),\n",
       " DeviceArray([[0, 1],\n",
       "              [2, 3],\n",
       "              [4, 5],\n",
       "              [6, 7]], dtype=int32),\n",
       " DeviceArray([[ 8,  9],\n",
       "              [10, 11],\n",
       "              [12, 13],\n",
       "              [14, 15]], dtype=int32),\n",
       " DeviceArray([[0, 1],\n",
       "              [2, 3],\n",
       "              [4, 5],\n",
       "              [6, 7]], dtype=int32),\n",
       " DeviceArray([[ 8,  9],\n",
       "              [10, 11],\n",
       "              [12, 13],\n",
       "              [14, 15]], dtype=int32)]"
      ]
     },
     "execution_count": 54,
     "metadata": {},
     "output_type": "execute_result"
    }
   ],
   "source": [
    "f = pjit(\n",
    "  lambda x: x,\n",
    "  in_axis_resources=None,\n",
    "  out_axis_resources=PartitionSpec('y', None))\n",
    " \n",
    "with maps.Mesh(mesh.devices, mesh.axis_names):\n",
    " data = f(input_data)\n",
    "\n",
    "data.device_buffers"
   ]
  },
  {
   "cell_type": "code",
   "execution_count": 55,
   "metadata": {},
   "outputs": [
    {
     "data": {
      "text/plain": [
       "[DeviceArray([[0, 1]], dtype=int32),\n",
       " DeviceArray([[2, 3]], dtype=int32),\n",
       " DeviceArray([[4, 5]], dtype=int32),\n",
       " DeviceArray([[6, 7]], dtype=int32),\n",
       " DeviceArray([[8, 9]], dtype=int32),\n",
       " DeviceArray([[10, 11]], dtype=int32),\n",
       " DeviceArray([[12, 13]], dtype=int32),\n",
       " DeviceArray([[14, 15]], dtype=int32)]"
      ]
     },
     "execution_count": 55,
     "metadata": {},
     "output_type": "execute_result"
    }
   ],
   "source": [
    "f = pjit(\n",
    "  lambda x: x,\n",
    "  in_axis_resources=None,\n",
    "  out_axis_resources=PartitionSpec(('x', 'y'), None))\n",
    " \n",
    "with maps.Mesh(mesh.devices, mesh.axis_names):\n",
    " data = f(input_data)\n",
    "\n",
    "data.device_buffers"
   ]
  },
  {
   "cell_type": "code",
   "execution_count": 56,
   "metadata": {},
   "outputs": [
    {
     "data": {
      "text/plain": [
       "[DeviceArray([[ 0],\n",
       "              [ 2],\n",
       "              [ 4],\n",
       "              [ 6],\n",
       "              [ 8],\n",
       "              [10],\n",
       "              [12],\n",
       "              [14]], dtype=int32),\n",
       " DeviceArray([[ 1],\n",
       "              [ 3],\n",
       "              [ 5],\n",
       "              [ 7],\n",
       "              [ 9],\n",
       "              [11],\n",
       "              [13],\n",
       "              [15]], dtype=int32),\n",
       " DeviceArray([[ 0],\n",
       "              [ 2],\n",
       "              [ 4],\n",
       "              [ 6],\n",
       "              [ 8],\n",
       "              [10],\n",
       "              [12],\n",
       "              [14]], dtype=int32),\n",
       " DeviceArray([[ 1],\n",
       "              [ 3],\n",
       "              [ 5],\n",
       "              [ 7],\n",
       "              [ 9],\n",
       "              [11],\n",
       "              [13],\n",
       "              [15]], dtype=int32),\n",
       " DeviceArray([[ 0],\n",
       "              [ 2],\n",
       "              [ 4],\n",
       "              [ 6],\n",
       "              [ 8],\n",
       "              [10],\n",
       "              [12],\n",
       "              [14]], dtype=int32),\n",
       " DeviceArray([[ 1],\n",
       "              [ 3],\n",
       "              [ 5],\n",
       "              [ 7],\n",
       "              [ 9],\n",
       "              [11],\n",
       "              [13],\n",
       "              [15]], dtype=int32),\n",
       " DeviceArray([[ 0],\n",
       "              [ 2],\n",
       "              [ 4],\n",
       "              [ 6],\n",
       "              [ 8],\n",
       "              [10],\n",
       "              [12],\n",
       "              [14]], dtype=int32),\n",
       " DeviceArray([[ 1],\n",
       "              [ 3],\n",
       "              [ 5],\n",
       "              [ 7],\n",
       "              [ 9],\n",
       "              [11],\n",
       "              [13],\n",
       "              [15]], dtype=int32)]"
      ]
     },
     "execution_count": 56,
     "metadata": {},
     "output_type": "execute_result"
    }
   ],
   "source": [
    "f = pjit(\n",
    "  lambda x: x,\n",
    "  in_axis_resources=None,\n",
    "  out_axis_resources=PartitionSpec(None, 'y'))\n",
    " \n",
    "with maps.Mesh(mesh.devices, mesh.axis_names):\n",
    " data = f(input_data)\n",
    "\n",
    "data.device_buffers"
   ]
  },
  {
   "cell_type": "code",
   "execution_count": null,
   "metadata": {},
   "outputs": [],
   "source": []
  }
 ],
 "metadata": {
  "kernelspec": {
   "display_name": "Python 3.8.10 64-bit",
   "language": "python",
   "name": "python3"
  },
  "language_info": {
   "codemirror_mode": {
    "name": "ipython",
    "version": 3
   },
   "file_extension": ".py",
   "mimetype": "text/x-python",
   "name": "python",
   "nbconvert_exporter": "python",
   "pygments_lexer": "ipython3",
   "version": "3.8.10"
  },
  "orig_nbformat": 4,
  "vscode": {
   "interpreter": {
    "hash": "31f2aee4e71d21fbe5cf8b01ff0e069b9275f58929596ceb00d14d90e3e16cd6"
   }
  }
 },
 "nbformat": 4,
 "nbformat_minor": 2
}
