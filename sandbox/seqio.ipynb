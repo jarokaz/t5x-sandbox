{
 "cells": [
  {
   "cell_type": "code",
   "execution_count": 1,
   "id": "887949a8-66c5-4f9c-8464-4da1f36cc090",
   "metadata": {},
   "outputs": [
    {
     "name": "stderr",
     "output_type": "stream",
     "text": [
      "2022-07-23 20:03:29.758021: W tensorflow/stream_executor/platform/default/dso_loader.cc:64] Could not load dynamic library 'libcudart.so.11.0'; dlerror: libcudart.so.11.0: cannot open shared object file: No such file or directory\n",
      "2022-07-23 20:03:29.758068: I tensorflow/stream_executor/cuda/cudart_stub.cc:29] Ignore above cudart dlerror if you do not have a GPU set up on your machine.\n",
      "/opt/conda/lib/python3.7/site-packages/jax/__init__.py:27: UserWarning: cloud_tpu_init failed: KeyError('<!DOCTYPE html>\\n<html lang=en>\\n  <meta charset=utf-8>\\n  <meta name=viewport content=\"initial-scale=1, minimum-scale=1, width=device-width\">\\n  <title>Error 404 (Not Found)!!1</title>\\n  <style>\\n    *{margin:0;padding:0}html,code{font:15px/22px arial,sans-serif}html{background:#fff;color:#222;padding:15px}body{margin:7% auto 0;max-width:390px;min-height:180px;padding:30px 0 15px}* > body{background:url(//www.google.com/images/errors/robot.png) 100% 5px no-repeat;padding-right:205px}p{margin:11px 0 22px;overflow:hidden}ins{color:#777;text-decoration:none}a img{border:0}@media screen and (max-width:772px){body{background:none;margin-top:0;max-width:none;padding-right:0}}#logo{background:url(//www.google.com/images/branding/googlelogo/1x/googlelogo_color_150x54dp.png) no-repeat;margin-left:-5px}@media only screen and (min-resolution:192dpi){#logo{background:url(//www.google.com/images/branding/googlelogo/2x/googlelogo_color_150x54dp.png) no-repeat 0% 0%/100% 100%;-moz-border-image:url(//www.google.com/images/branding/googlelogo/2x/googlelogo_color_150x54dp.png) 0}}@media only screen and (-webkit-min-device-pixel-ratio:2){#logo{background:url(//www.google.com/images/branding/googlelogo/2x/googlelogo_color_150x54dp.png) no-repeat;-webkit-background-size:100% 100%}}#logo{display:inline-block;height:54px;width:150px}\\n  </style>\\n  <a href=//www.google.com/><span id=logo aria-label=Google></span></a>\\n  <p><b>404.</b> <ins>That’s an error.</ins>\\n  <p>The requested URL <code>/computeMetadata/v1/instance/attributes/accelerator-type</code> was not found on this server.  <ins>That’s all we know.</ins>\\n')\n",
      " This a JAX bug; please report an issue at https://github.com/google/jax/issues\n",
      "  _warn(f\"cloud_tpu_init failed: {repr(exc)}\\n This a JAX bug; please report \"\n"
     ]
    }
   ],
   "source": [
    "import tensorflow as tf"
   ]
  },
  {
   "cell_type": "code",
   "execution_count": 4,
   "id": "8cae06e5-4360-4d7f-a83a-a8d958cdb5ca",
   "metadata": {},
   "outputs": [
    {
     "data": {
      "text/plain": [
       "'2.8.0'"
      ]
     },
     "execution_count": 4,
     "metadata": {},
     "output_type": "execute_result"
    }
   ],
   "source": [
    "tf.__version__"
   ]
  },
  {
   "cell_type": "code",
   "execution_count": 5,
   "id": "a0d369d9-3304-46c8-b569-b5e9da1208ea",
   "metadata": {},
   "outputs": [],
   "source": [
    "tfr = 'gs://jk-t5x-staging/experiments/fine-tune-t5-xl-v2-8/dataset/wmt_t2t_translate/de-en/1.0.0/wmt_t2t_translate-train.tfrecord-00000-of-00016'"
   ]
  },
  {
   "cell_type": "code",
   "execution_count": 8,
   "id": "2e0c0d69-660c-4944-bde4-85f90f00faef",
   "metadata": {},
   "outputs": [],
   "source": [
    "raw_dataset = tf.data.TFRecordDataset([tfr])"
   ]
  },
  {
   "cell_type": "code",
   "execution_count": 9,
   "id": "f458e40a-b9a5-4e39-bff7-f11fd631e9d7",
   "metadata": {},
   "outputs": [
    {
     "data": {
      "text/plain": [
       "<TFRecordDatasetV2 element_spec=TensorSpec(shape=(), dtype=tf.string, name=None)>"
      ]
     },
     "execution_count": 9,
     "metadata": {},
     "output_type": "execute_result"
    }
   ],
   "source": [
    "raw_dataset"
   ]
  },
  {
   "cell_type": "code",
   "execution_count": 10,
   "id": "95d4a0a9-604e-42df-b0dc-5eda851216d5",
   "metadata": {},
   "outputs": [
    {
     "name": "stdout",
     "output_type": "stream",
     "text": [
      "<tf.Tensor: shape=(), dtype=string, numpy=b'\\n\\x8f\\x02\\ny\\n\\x02en\\x12s\\nq\\noHere the largest town of the district is located: Nordenham , lying opposite to Bremerhaven at the Weser mouth.\\n\\x91\\x01\\n\\x02de\\x12\\x8a\\x01\\n\\x87\\x01\\n\\x84\\x01An der B 211 befindet sich in Loyermoor der so genannte \\xe2\\x80\\x9eGeest-Abbruch\\xe2\\x80\\x9c, der eine H\\xc3\\xb6hendifferenz von gut 30 Meter \\xc3\\xbcberbr\\xc3\\xbcckt.'>\n",
      "<tf.Tensor: shape=(), dtype=string, numpy=b\"\\n\\xd1\\x03\\n\\xd8\\x01\\n\\x02de\\x12\\xd1\\x01\\n\\xce\\x01\\n\\xcb\\x01Ich begr\\xc3\\xbc\\xc3\\x9fe die Erkl\\xc3\\xa4rung des Herrn Kommissar und die Arbeit des Parlaments, die wirklich deutlich macht, welch konkretes Interesse wir an diesen Fragen haben, gerade unter den derzeitigen Umst\\xc3\\xa4nden.\\n\\xf3\\x01\\n\\x02en\\x12\\xec\\x01\\n\\xe9\\x01\\n\\xe6\\x01I should like, in passing, to pay tribute to the Commissioner' s statement and to all the work that Parliament has carried out, which shows that we attach real importance to these issues, particularly in the current circumstances.\">\n"
     ]
    }
   ],
   "source": [
    "for raw_record in raw_dataset.take(2):\n",
    "    print(repr(raw_record))"
   ]
  },
  {
   "cell_type": "code",
   "execution_count": 11,
   "id": "d206454b-7d41-4201-8955-743f6eafb158",
   "metadata": {},
   "outputs": [],
   "source": [
    "feature_description = {\n",
    "    'en': tf.io.FixedLenFeature([], tf.string, default_value=''),\n",
    "    'de': tf.io.FixedLenFeature([], tf.string, default_value='')\n",
    "}"
   ]
  },
  {
   "cell_type": "code",
   "execution_count": 12,
   "id": "ada26276-1a32-4f08-901e-06e275a6ed57",
   "metadata": {},
   "outputs": [],
   "source": [
    "def _parse_function(example_proto):\n",
    "  # Parse the input `tf.train.Example` proto using the dictionary above.\n",
    "  return tf.io.parse_single_example(example_proto, feature_description)"
   ]
  },
  {
   "cell_type": "code",
   "execution_count": 13,
   "id": "e724597a-eb36-45bd-9cea-4c742e44a8fe",
   "metadata": {},
   "outputs": [
    {
     "data": {
      "text/plain": [
       "<MapDataset element_spec={'de': TensorSpec(shape=(), dtype=tf.string, name=None), 'en': TensorSpec(shape=(), dtype=tf.string, name=None)}>"
      ]
     },
     "execution_count": 13,
     "metadata": {},
     "output_type": "execute_result"
    }
   ],
   "source": [
    "parsed_dataset = raw_dataset.map(_parse_function)\n",
    "parsed_dataset"
   ]
  },
  {
   "cell_type": "code",
   "execution_count": 14,
   "id": "99757d26-858d-4b17-98c7-25feab2ef3b6",
   "metadata": {},
   "outputs": [
    {
     "name": "stdout",
     "output_type": "stream",
     "text": [
      "{'de': <tf.Tensor: shape=(), dtype=string, numpy=b'An der B 211 befindet sich in Loyermoor der so genannte \\xe2\\x80\\x9eGeest-Abbruch\\xe2\\x80\\x9c, der eine H\\xc3\\xb6hendifferenz von gut 30 Meter \\xc3\\xbcberbr\\xc3\\xbcckt.'>, 'en': <tf.Tensor: shape=(), dtype=string, numpy=b'Here the largest town of the district is located: Nordenham , lying opposite to Bremerhaven at the Weser mouth.'>}\n",
      "{'de': <tf.Tensor: shape=(), dtype=string, numpy=b'Ich begr\\xc3\\xbc\\xc3\\x9fe die Erkl\\xc3\\xa4rung des Herrn Kommissar und die Arbeit des Parlaments, die wirklich deutlich macht, welch konkretes Interesse wir an diesen Fragen haben, gerade unter den derzeitigen Umst\\xc3\\xa4nden.'>, 'en': <tf.Tensor: shape=(), dtype=string, numpy=b\"I should like, in passing, to pay tribute to the Commissioner' s statement and to all the work that Parliament has carried out, which shows that we attach real importance to these issues, particularly in the current circumstances.\">}\n"
     ]
    }
   ],
   "source": [
    "for parsed_record in parsed_dataset.take(2):\n",
    "  print(repr(parsed_record))"
   ]
  },
  {
   "cell_type": "code",
   "execution_count": null,
   "id": "b14788bd-eac2-43a4-a3dd-8d05b87fc9ee",
   "metadata": {},
   "outputs": [],
   "source": []
  }
 ],
 "metadata": {
  "environment": {
   "kernel": "python3",
   "name": "common-cpu.m93",
   "type": "gcloud",
   "uri": "gcr.io/deeplearning-platform-release/base-cpu:m93"
  },
  "kernelspec": {
   "display_name": "Python 3",
   "language": "python",
   "name": "python3"
  },
  "language_info": {
   "codemirror_mode": {
    "name": "ipython",
    "version": 3
   },
   "file_extension": ".py",
   "mimetype": "text/x-python",
   "name": "python",
   "nbconvert_exporter": "python",
   "pygments_lexer": "ipython3",
   "version": "3.7.12"
  }
 },
 "nbformat": 4,
 "nbformat_minor": 5
}
