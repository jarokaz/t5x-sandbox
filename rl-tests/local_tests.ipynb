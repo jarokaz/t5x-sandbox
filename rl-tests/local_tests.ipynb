{
 "cells": [
  {
   "cell_type": "markdown",
   "metadata": {},
   "source": [
    "## Instalation"
   ]
  },
  {
   "cell_type": "code",
   "execution_count": null,
   "metadata": {},
   "outputs": [],
   "source": [
    "python3 -m pip3 install -e '.[tpu]' -f https://storage.googleapis.com/jax-releases/libtpu_releases.html"
   ]
  },
  {
   "cell_type": "markdown",
   "metadata": {},
   "source": [
    "## Training "
   ]
  },
  {
   "cell_type": "code",
   "execution_count": null,
   "metadata": {
    "vscode": {
     "languageId": "shellscript"
    }
   },
   "outputs": [],
   "source": [
    "# Model dir to save logs, ckpts, etc. in \"gs://model_dir\" format.\n",
    "MODEL_DIR=\"gs://rl-language/model\"\n",
    "\n",
    "# Data dir to save the processed dataset in \"gs://data_dir\" format.\n",
    "TFDS_DATA_DIR=\"gs://rl-language/dataset\"\n",
    "T5X_DIR=\"/home/renatoleite/workspace/t5x\"  # directory where the T5X repo is cloned.\n",
    "\n",
    "python3 ${T5X_DIR}/t5x/train.py \\\n",
    "  --gin_file=\"t5x/examples/t5/t5_1_1/examples/base_wmt_from_scratch.gin\" \\\n",
    "  --gin.MODEL_DIR=\\\"${MODEL_DIR}\\\" \\\n",
    "  --tfds_data_dir=${TFDS_DATA_DIR}"
   ]
  },
  {
   "cell_type": "markdown",
   "metadata": {},
   "source": [
    "## (1) Fine tuning"
   ]
  },
  {
   "cell_type": "code",
   "execution_count": null,
   "metadata": {
    "vscode": {
     "languageId": "shellscript"
    }
   },
   "outputs": [],
   "source": [
    "# Model dir to save logs, ckpts, etc. in \"gs://model_dir\" format.\n",
    "MODEL_DIR=\"gs://rl-language/model\"\n",
    "\n",
    "# Data dir to save the processed dataset in \"gs://data_dir\" format.\n",
    "TFDS_DATA_DIR=\"gs://rl-language/dataset\"\n",
    "T5X_DIR=\"/home/renatoleite/workspace/t5x\"  # directory where the T5X repo is cloned.\n",
    "\n",
    "python3 ${T5X_DIR}/t5x/train.py \\\n",
    "  --gin_file=\"t5x/examples/t5/t5_1_1/examples/base_wmt14enfr_finetune.gin\" \\\n",
    "  --gin.MODEL_DIR=\\\"${MODEL_DIR}\\\" \\\n",
    "  --tfds_data_dir=${TFDS_DATA_DIR} \\\n",
    "  --gin.USE_CACHED_TASKS=False"
   ]
  },
  {
   "cell_type": "markdown",
   "metadata": {},
   "source": [
    "## (2) Fine tuning"
   ]
  },
  {
   "cell_type": "markdown",
   "metadata": {},
   "source": [
    "# Model dir to save logs, ckpts, etc. in \"gs://model_dir\" format.\n",
    "MODEL_DIR=\"gs://rl-language/model/finetune\"\n",
    "\n",
    "# Data dir to save the processed dataset in \"gs://data_dir\" format.\n",
    "TFDS_DATA_DIR=\"gs://rl-language/dataset\"\n",
    "T5X_DIR=\"/home/renatoleite/workspace/t5x\"  # directory where the T5X repo is cloned.\n",
    "\n",
    "python3 ${T5X_DIR}/t5x/train.py \\\n",
    "  --gin_file=\"/home/renatoleite/workspace/t5x-sandbox/tests/finetune_small/small_finetune_wmt.gin\" \\\n",
    "  --gin.MODEL_DIR=\\\"${MODEL_DIR}\\\" \\\n",
    "  --tfds_data_dir=${TFDS_DATA_DIR} \\\n",
    "  --gin.USE_CACHED_TASKS=False"
   ]
  }
 ],
 "metadata": {
  "kernelspec": {
   "display_name": "Python 3.8.10 64-bit",
   "language": "python",
   "name": "python3"
  },
  "language_info": {
   "codemirror_mode": {
    "name": "ipython",
    "version": 3
   },
   "file_extension": ".py",
   "mimetype": "text/x-python",
   "name": "python",
   "nbconvert_exporter": "python",
   "pygments_lexer": "ipython3",
   "version": "3.8.10"
  },
  "orig_nbformat": 4,
  "vscode": {
   "interpreter": {
    "hash": "31f2aee4e71d21fbe5cf8b01ff0e069b9275f58929596ceb00d14d90e3e16cd6"
   }
  }
 },
 "nbformat": 4,
 "nbformat_minor": 2
}
