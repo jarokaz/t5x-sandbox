{
 "cells": [
  {
   "cell_type": "code",
   "execution_count": 1,
   "metadata": {},
   "outputs": [],
   "source": [
    "import seqio\n",
    "import tensorflow as tf\n",
    "\n",
    "import functools\n",
    "import itertools"
   ]
  },
  {
   "cell_type": "markdown",
   "metadata": {},
   "source": [
    "# Create dataset"
   ]
  },
  {
   "cell_type": "code",
   "execution_count": 2,
   "metadata": {},
   "outputs": [],
   "source": [
    "dataset = seqio.TextLineDataSource(\n",
    "    {'train': './train', 'validation': './val'},\n",
    "    skip_header_lines=0\n",
    ")"
   ]
  },
  {
   "cell_type": "code",
   "execution_count": 3,
   "metadata": {},
   "outputs": [],
   "source": [
    "def label_dataset(dataset: tf.data.Dataset,\n",
    "                target: str) -> tf.data.Dataset:\n",
    "  def _label_dataset(ex: tf.Tensor):\n",
    "    return {\n",
    "        'input': ex,\n",
    "        'target': target,\n",
    "    }\n",
    "  return dataset.map(_label_dataset,\n",
    "                     num_parallel_calls=tf.data.experimental.AUTOTUNE)"
   ]
  },
  {
   "cell_type": "markdown",
   "metadata": {},
   "source": [
    "# Define preprocessing functions"
   ]
  },
  {
   "cell_type": "code",
   "execution_count": 4,
   "metadata": {},
   "outputs": [],
   "source": [
    "vocabulary = seqio.SentencePieceVocabulary(\n",
    "    'gs://t5-data/vocabs/cc_all.32000/sentencepiece.model', extra_ids=100)\n",
    "\n",
    "output_features = {\n",
    "    'input': seqio.Feature(vocabulary=vocabulary),\n",
    "    'target': seqio.Feature(vocabulary=seqio.PassThroughVocabulary(size=0), rank=0, dtype=tf.string)\n",
    "}"
   ]
  },
  {
   "cell_type": "code",
   "execution_count": 5,
   "metadata": {},
   "outputs": [],
   "source": [
    "task = seqio.Task(\n",
    "    'my_task', \n",
    "    dataset,\n",
    "    preprocessors = [\n",
    "        functools.partial(\n",
    "            label_dataset, target='1'),\n",
    "        seqio.preprocessors.tokenize,\n",
    "        seqio.preprocessors.append_eos\n",
    "    ],\n",
    "    output_features=output_features\n",
    ")"
   ]
  },
  {
   "cell_type": "code",
   "execution_count": 9,
   "metadata": {},
   "outputs": [],
   "source": [
    "b = task.get_dataset(split='train', sequence_length=100, trim_output_features=False)"
   ]
  },
  {
   "cell_type": "code",
   "execution_count": 11,
   "metadata": {},
   "outputs": [
    {
     "data": {
      "text/plain": [
       "{'input_pretokenized': <tf.Tensor: shape=(), dtype=string, numpy=b'Should I Get Bings'>,\n",
       " 'input': <tf.Tensor: shape=(6,), dtype=int32, numpy=array([5066,   27, 1609,  272,   53,    7], dtype=int32)>,\n",
       " 'target_pretokenized': <tf.Tensor: shape=(), dtype=string, numpy=b'1'>,\n",
       " 'target': <tf.Tensor: shape=(), dtype=string, numpy=b'1'>}"
      ]
     },
     "execution_count": 11,
     "metadata": {},
     "output_type": "execute_result"
    }
   ],
   "source": [
    "next(iter(b))"
   ]
  },
  {
   "cell_type": "code",
   "execution_count": null,
   "metadata": {},
   "outputs": [],
   "source": []
  }
 ],
 "metadata": {
  "kernelspec": {
   "display_name": "Python 3.9.13 ('t5x')",
   "language": "python",
   "name": "python3"
  },
  "language_info": {
   "codemirror_mode": {
    "name": "ipython",
    "version": 3
   },
   "file_extension": ".py",
   "mimetype": "text/x-python",
   "name": "python",
   "nbconvert_exporter": "python",
   "pygments_lexer": "ipython3",
   "version": "3.9.13"
  },
  "orig_nbformat": 4,
  "vscode": {
   "interpreter": {
    "hash": "e08c341cd3069ddbdf52929b0982b0e2df3b90883897a503b8f5cfb9ad9e4016"
   }
  }
 },
 "nbformat": 4,
 "nbformat_minor": 2
}
